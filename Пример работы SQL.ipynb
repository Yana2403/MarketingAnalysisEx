{
 "cells": [
  {
   "cell_type": "code",
   "execution_count": 1,
   "id": "467de551",
   "metadata": {},
   "outputs": [],
   "source": [
    "HOST = '37.139.42.145'\n",
    "DBNAME = 'game-analytics'\n",
    "USER = 'user'\n",
    "PASSWORD = '5ohJYY4ci8TUJWhQ'\n",
    "from sqlalchemy import create_engine\n",
    "engine = create_engine(f'postgresql://{USER}:{PASSWORD}@{HOST}/{DBNAME}')\n",
    "import pandas as pd\n",
    "group_schema='marketing_analytics'\n",
    "\n",
    "facebook=pd.read_csv('./downloads/t4_spend_facebook.csv')\n",
    "googleads =pd.read_csv('./downloads/t4_spend_googleads.csv')\n",
    "personaly =pd.read_csv('./downloads/t4_spend_personaly.csv')\n"
   ]
  },
  {
   "cell_type": "code",
   "execution_count": 2,
   "id": "8198f81c",
   "metadata": {},
   "outputs": [],
   "source": [
    "#общий расчет из второго задания\n",
    "ma2 = pd.read_sql(f'''\n",
    "   \n",
    "SELECT t.media_source, t.campaign, \n",
    "        installs, payers, \n",
    "        purchase,rev as revenue, \n",
    "        cast(payers as float)/cast(installs as float) as c2p, \n",
    "        rev/installs as RPI\n",
    "        \n",
    "            FROM (\n",
    "                    SELECT  count(distinct player_id) as installs, media_source, campaign\n",
    "                    FROM {group_schema}.t2_installs\n",
    "                    WHERE status='Non-organic'\n",
    "                          and is_tester=False \n",
    "                          and is_cheater=False \n",
    "                          and cast(server_time as date) between '2021-02-01' and '2021-05-09'\n",
    "                    GROUP BY media_source, campaign) as t\n",
    "            LEFT JOIN (\n",
    "                   SELECT count(distinct p.player_id) as payers, count(p.player_id) as purchase, \n",
    "                           media_source, campaign, sum(revenue) as rev\n",
    "                   FROM {group_schema}.t2_purchases as p\n",
    "                   LEFT JOIN {group_schema}.t2_installs as i\n",
    "                     ON p.player_id= i.player_id\n",
    "                   WHERE status='Non-organic'\n",
    "                         and is_tester=False \n",
    "                         and is_cheater=False \n",
    "                         and cast(p.server_time as date) between '2021-02-01' and '2021-05-09'\n",
    "                   GROUP BY media_source, campaign) as r\n",
    "            ON t.campaign= r.campaign\n",
    "\n",
    "\n",
    "''', con=engine)\n",
    "\n",
    "unityads=pd.read_sql(f'''\n",
    "SELECT  campaign, sum(cost)\n",
    "    FROM (\n",
    "        SELECT player_id, cost \n",
    "        FROM {group_schema}.t4_spend_unityads \n",
    "        )as p\n",
    "\n",
    "    LEFT JOIN ( SELECT player_id, campaign\n",
    "                FROM {group_schema}.t2_installs\n",
    "                WHERE status='Non-organic'\n",
    "                             and is_tester=False \n",
    "                             and is_cheater=False\n",
    "                             and media_source='unityads_int'\n",
    "                             and cast(server_time as date) between '2021-02-01' and '2021-05-09'\n",
    "                        ) as i\n",
    "                         ON p.player_id= i.player_id\n",
    "GROUP BY campaign\n",
    "\n",
    "''', con=engine)"
   ]
  },
  {
   "cell_type": "code",
   "execution_count": 3,
   "id": "a0aeeadd",
   "metadata": {},
   "outputs": [],
   "source": [
    "facebook=facebook.groupby(['Campaign Name'], as_index=False).agg({'Amount Spent (USD)':'sum'})\n",
    "facebook=facebook.rename(columns={'Campaign Name':'campaign','Amount Spent (USD)':'Spend (USD)'})\n",
    "\n",
    "googleads=googleads.groupby(['Campaign'], as_index=False).agg({'Cost':'sum'})\n",
    "googleads=googleads.rename(columns={'Campaign':'campaign','Cost':'Spend (USD)'})\n",
    "\n",
    "personaly=personaly.agg({'Spend':'sum'})\n"
   ]
  },
  {
   "cell_type": "code",
   "execution_count": 4,
   "id": "ea1b3bc8",
   "metadata": {},
   "outputs": [],
   "source": [
    "data=pd.concat([facebook, googleads,unityads.rename(columns={'sum':'Spend (USD)'})],\n",
    "                ignore_index=True, sort=False)\n",
    "result=pd.merge(ma2, data, on=['campaign'], how='left')\n",
    "#замена значения\n",
    "result.at[43,'Spend (USD)']=personaly.iloc[0]"
   ]
  },
  {
   "cell_type": "code",
   "execution_count": 5,
   "id": "39b9c140",
   "metadata": {},
   "outputs": [],
   "source": [
    "result=result.fillna(0)\n",
    "result['profit']=result['revenue']-result['Spend (USD)']\n",
    "result['CPI']=result['Spend (USD)']/result['installs']\n",
    "result['ROI']=(result['revenue']-result['Spend (USD)'])/result['Spend (USD)']"
   ]
  },
  {
   "cell_type": "code",
   "execution_count": 6,
   "id": "c3a06361",
   "metadata": {},
   "outputs": [],
   "source": [
    "result=result.fillna(0)"
   ]
  },
  {
   "cell_type": "code",
   "execution_count": 9,
   "id": "c3a18c5f",
   "metadata": {},
   "outputs": [],
   "source": [
    "result.to_csv('./downloads/MA4.csv', index=False)"
   ]
  },
  {
   "cell_type": "code",
   "execution_count": null,
   "id": "d5632a3c",
   "metadata": {},
   "outputs": [],
   "source": []
  }
 ],
 "metadata": {
  "kernelspec": {
   "display_name": "Python 3",
   "language": "python",
   "name": "python3"
  },
  "language_info": {
   "codemirror_mode": {
    "name": "ipython",
    "version": 3
   },
   "file_extension": ".py",
   "mimetype": "text/x-python",
   "name": "python",
   "nbconvert_exporter": "python",
   "pygments_lexer": "ipython3",
   "version": "3.8.8"
  }
 },
 "nbformat": 4,
 "nbformat_minor": 5
}
