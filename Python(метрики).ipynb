{
 "cells": [
  {
   "cell_type": "code",
   "execution_count": null,
   "id": "da91e8dc",
   "metadata": {},
   "outputs": [],
   "source": [
    "import pandas as pd\n",
    "import numpy as np\n",
    "# import plo\n",
    "import plotly.express as px\n",
    "import plotly.io as pio\n",
    "pio.renderers.default='iframe'"
   ]
  },
  {
   "cell_type": "markdown",
   "id": "1efa1565",
   "metadata": {},
   "source": [
    "DAU"
   ]
  },
  {
   "cell_type": "code",
   "execution_count": null,
   "id": "4fe372c3",
   "metadata": {},
   "outputs": [],
   "source": [
    "df = pd.read_csv('./downloads/2021-04 (2).csv')\n",
    "df['cntr'] = np.where(df['country']=='RU', 'RU', None)\n",
    "df['cntr'] = np.where(df['country']=='UA', 'UA', df['cntr'])\n",
    "df['cntr'] = np.where(df['country']=='US', 'US', df['cntr'])\n",
    "df['cntr'] = np.where((df['country']!='RU')&(df['country']!='UA')&(df['country']!='US'),'Other', df['cntr'])\n",
    "df=df.drop(columns=['country'])\n",
    "df=df.rename(columns={'cntr':'country'})\n",
    "df\n"
   ]
  },
  {
   "cell_type": "code",
   "execution_count": null,
   "id": "d5a9f8fd",
   "metadata": {},
   "outputs": [],
   "source": [
    "dau = df.groupby(['event_date','country']).agg(dau=('user_id','nunique')).reset_index()"
   ]
  },
  {
   "cell_type": "code",
   "execution_count": null,
   "id": "b932caad",
   "metadata": {},
   "outputs": [],
   "source": [
    "dau"
   ]
  },
  {
   "cell_type": "code",
   "execution_count": null,
   "id": "e847ff15",
   "metadata": {},
   "outputs": [],
   "source": [
    "dau.groupby(['country']).agg({'dau':'mean'}).sort_values(['dau'],ascending=False)"
   ]
  },
  {
   "cell_type": "markdown",
   "id": "68083e42",
   "metadata": {},
   "source": [
    "Retention"
   ]
  },
  {
   "cell_type": "code",
   "execution_count": null,
   "id": "ddc9cf6c",
   "metadata": {},
   "outputs": [],
   "source": [
    "df = pd.read_csv('./downloads/2021-04 (2).csv')\n",
    "df['cntr'] = np.where(df['country']=='RU', 'RU', None)\n",
    "df['cntr'] = np.where(df['country']=='UA', 'UA', df['cntr'])\n",
    "df['cntr'] = np.where(df['country']=='US', 'US', df['cntr'])\n",
    "df['cntr'] = np.where((df['country']!='RU')&(df['country']!='UA')&(df['country']!='US'),'Other', df['cntr'])\n",
    "df=df.drop(columns=['country'])\n",
    "df=df.rename(columns={'cntr':'country'})\n"
   ]
  },
  {
   "cell_type": "code",
   "execution_count": null,
   "id": "294cbff5",
   "metadata": {},
   "outputs": [],
   "source": [
    "df['event_time'] = pd.to_datetime(df['event_time'])"
   ]
  },
  {
   "cell_type": "code",
   "execution_count": null,
   "id": "ef252da9",
   "metadata": {},
   "outputs": [],
   "source": [
    "install = df[df['event'] == 'install']"
   ]
  },
  {
   "cell_type": "code",
   "execution_count": null,
   "id": "362db0fc",
   "metadata": {},
   "outputs": [],
   "source": [
    "install = install.groupby(['user_id'], as_index=False).agg({'event_time':'min'})"
   ]
  },
  {
   "cell_type": "code",
   "execution_count": null,
   "id": "51041d8d",
   "metadata": {},
   "outputs": [],
   "source": [
    "df = pd.merge(df, install, on=['user_id'], how='inner', suffixes=['','_install'])"
   ]
  },
  {
   "cell_type": "code",
   "execution_count": null,
   "id": "0ae7e2db",
   "metadata": {},
   "outputs": [],
   "source": [
    "df['lifeday'] = (df['event_time'].dt.date - df['event_time_install'].dt.date).dt.days"
   ]
  },
  {
   "cell_type": "code",
   "execution_count": null,
   "id": "4d7e4253",
   "metadata": {},
   "outputs": [],
   "source": [
    "df = df[df['lifeday'] >= 0]"
   ]
  },
  {
   "cell_type": "code",
   "execution_count": null,
   "id": "c8309f85",
   "metadata": {},
   "outputs": [],
   "source": [
    "ret = df.groupby(['lifeday','country']).agg({'user_id':'nunique'}).reset_index()"
   ]
  },
  {
   "cell_type": "code",
   "execution_count": null,
   "id": "9ddf9172",
   "metadata": {},
   "outputs": [],
   "source": [
    "ret0 = ret[ret['lifeday'] == 0]"
   ]
  },
  {
   "cell_type": "code",
   "execution_count": null,
   "id": "c3f621fd",
   "metadata": {},
   "outputs": [],
   "source": [
    "ret = pd.merge(ret, ret0, on=['country'], suffixes=['','_total'])"
   ]
  },
  {
   "cell_type": "code",
   "execution_count": null,
   "id": "dadbe46d",
   "metadata": {},
   "outputs": [],
   "source": [
    "ret = ret.drop(columns=['lifeday_total'])"
   ]
  },
  {
   "cell_type": "code",
   "execution_count": null,
   "id": "8eb7e933",
   "metadata": {},
   "outputs": [],
   "source": [
    "ret['ret'] = ret['user_id']/ret['user_id_total']\n",
    "ret['text'] = (round(ret['ret']*100, 2)).astype(str) + '%'"
   ]
  },
  {
   "cell_type": "code",
   "execution_count": null,
   "id": "b6ce17ea",
   "metadata": {},
   "outputs": [],
   "source": [
    "fig = px.line(ret, x='lifeday',y='ret', color='country')\n",
    "fig.update_yaxes(dict(tickformat=\".00%\"))"
   ]
  },
  {
   "cell_type": "markdown",
   "id": "27e96b94",
   "metadata": {},
   "source": [
    "ARPU"
   ]
  },
  {
   "cell_type": "code",
   "execution_count": null,
   "id": "b0bd4e90",
   "metadata": {},
   "outputs": [],
   "source": [
    "df = pd.read_csv('./downloads/2021-04 (2).csv')\n",
    "df['cntr'] = np.where(df['country']=='RU', 'RU', None)\n",
    "df['cntr'] = np.where(df['country']=='UA', 'UA', df['cntr'])\n",
    "df['cntr'] = np.where(df['country']=='US', 'US', df['cntr'])\n",
    "df['cntr'] = np.where((df['country']!='RU')&(df['country']!='UA')&(df['country']!='US'),'Other', df['cntr'])\n",
    "df=df.drop(columns=['country'])\n",
    "df=df.rename(columns={'cntr':'country'})\n"
   ]
  },
  {
   "cell_type": "code",
   "execution_count": null,
   "id": "86e21217",
   "metadata": {},
   "outputs": [],
   "source": [
    "user_list = df[df['event'] == 'install']['user_id'].unique()\n",
    "df = df[df['user_id'].isin(user_list)]"
   ]
  },
  {
   "cell_type": "code",
   "execution_count": null,
   "id": "78ca5817",
   "metadata": {},
   "outputs": [],
   "source": [
    "arpu = df.groupby(['country']).agg({'user_id':'nunique','revenue_usd':'sum'}).reset_index()"
   ]
  },
  {
   "cell_type": "code",
   "execution_count": null,
   "id": "7b779ba3",
   "metadata": {},
   "outputs": [],
   "source": [
    "arpu['arpu'] = arpu['revenue_usd']/arpu['user_id']\n",
    "arpu"
   ]
  },
  {
   "cell_type": "markdown",
   "id": "aec1d872",
   "metadata": {},
   "source": [
    "ARPPU"
   ]
  },
  {
   "cell_type": "code",
   "execution_count": null,
   "id": "9e35a7ab",
   "metadata": {},
   "outputs": [],
   "source": [
    "df = pd.read_csv('./downloads/2021-04 (2).csv')\n",
    "df['cntr'] = np.where(df['country']=='RU', 'RU', None)\n",
    "df['cntr'] = np.where(df['country']=='UA', 'UA', df['cntr'])\n",
    "df['cntr'] = np.where(df['country']=='US', 'US', df['cntr'])\n",
    "df['cntr'] = np.where((df['country']!='RU')&(df['country']!='UA')&(df['country']!='US'),'Other', df['cntr'])\n",
    "df=df.drop(columns=['country'])\n",
    "df=df.rename(columns={'cntr':'country'})"
   ]
  },
  {
   "cell_type": "code",
   "execution_count": null,
   "id": "25c6825a",
   "metadata": {},
   "outputs": [],
   "source": [
    "user_list = df[df['event'] == 'install']['user_id'].unique()\n",
    "df = df[df['user_id'].isin(user_list)]"
   ]
  },
  {
   "cell_type": "code",
   "execution_count": null,
   "id": "6eac79bb",
   "metadata": {},
   "outputs": [],
   "source": [
    "arppu = df[df['event'] == 'purchase'].groupby(['country']).agg({'user_id':'nunique','revenue_usd':'sum'}).reset_index()"
   ]
  },
  {
   "cell_type": "code",
   "execution_count": null,
   "id": "48d6bf41",
   "metadata": {},
   "outputs": [],
   "source": [
    "arppu['arppu'] = arppu['revenue_usd']/arppu['user_id']\n",
    "arppu"
   ]
  },
  {
   "cell_type": "markdown",
   "id": "9b3adb52",
   "metadata": {},
   "source": [
    "LEVEL Funnel"
   ]
  },
  {
   "cell_type": "code",
   "execution_count": null,
   "id": "41416191",
   "metadata": {},
   "outputs": [],
   "source": [
    "df = pd.read_csv('./downloads/2021-04 (2).csv')\n",
    "df['cntr'] = np.where(df['country']=='RU', 'RU', None)\n",
    "df['cntr'] = np.where(df['country']=='UA', 'UA', df['cntr'])\n",
    "df['cntr'] = np.where(df['country']=='US', 'US', df['cntr'])\n",
    "df['cntr'] = np.where((df['country']!='RU')&(df['country']!='UA')&(df['country']!='US'),'Other', df['cntr'])\n",
    "df=df.drop(columns=['country'])\n",
    "df=df.rename(columns={'cntr':'country'})"
   ]
  },
  {
   "cell_type": "code",
   "execution_count": null,
   "id": "d022bcfd",
   "metadata": {},
   "outputs": [],
   "source": [
    "df = df[df['event'].str.contains('level')]"
   ]
  },
  {
   "cell_type": "code",
   "execution_count": null,
   "id": "993403e1",
   "metadata": {},
   "outputs": [],
   "source": [
    "user_list = df[df['event'] == 'level_4']['user_id'].unique()\n",
    "df = df[df['user_id'].isin(user_list)]"
   ]
  },
  {
   "cell_type": "code",
   "execution_count": null,
   "id": "71fc5436",
   "metadata": {},
   "outputs": [],
   "source": [
    "df['event'] = df['event'].str.replace('level_','').astype(int)\n",
    "df = df.rename(columns={'event':'level'})"
   ]
  },
  {
   "cell_type": "code",
   "execution_count": null,
   "id": "0e9e7bb3",
   "metadata": {},
   "outputs": [],
   "source": [
    "user_level = df.groupby(['level','country']).agg({'user_id':'nunique'}).reset_index()"
   ]
  },
  {
   "cell_type": "code",
   "execution_count": null,
   "id": "818db1e5",
   "metadata": {},
   "outputs": [],
   "source": [
    "total_users = df.groupby(['country']).agg({'user_id':'nunique'}).reset_index()"
   ]
  },
  {
   "cell_type": "code",
   "execution_count": null,
   "id": "1b95c274",
   "metadata": {},
   "outputs": [],
   "source": [
    "result = pd.merge(user_level, total_users, on='country', suffixes=['','_total'])"
   ]
  },
  {
   "cell_type": "code",
   "execution_count": null,
   "id": "ced26424",
   "metadata": {},
   "outputs": [],
   "source": [
    "result['conversion'] = result['user_id']/result['user_id_total']"
   ]
  },
  {
   "cell_type": "code",
   "execution_count": null,
   "id": "c3b2c1da",
   "metadata": {},
   "outputs": [],
   "source": [
    "px.line(result, x='level', y='conversion',color='country')"
   ]
  },
  {
   "cell_type": "code",
   "execution_count": null,
   "id": "d68c0956",
   "metadata": {},
   "outputs": [],
   "source": [
    "px.bar(result, x='level', y='conversion',color='country',barmode='group')"
   ]
  },
  {
   "cell_type": "code",
   "execution_count": null,
   "id": "9751b5c5",
   "metadata": {},
   "outputs": [],
   "source": []
  }
 ],
 "metadata": {
  "kernelspec": {
   "display_name": "Python 3",
   "language": "python",
   "name": "python3"
  },
  "language_info": {
   "codemirror_mode": {
    "name": "ipython",
    "version": 3
   },
   "file_extension": ".py",
   "mimetype": "text/x-python",
   "name": "python",
   "nbconvert_exporter": "python",
   "pygments_lexer": "ipython3",
   "version": "3.8.8"
  }
 },
 "nbformat": 4,
 "nbformat_minor": 5
}
